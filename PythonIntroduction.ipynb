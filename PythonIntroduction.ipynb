{
 "cells": [
  {
   "cell_type": "code",
   "execution_count": null,
   "metadata": {},
   "outputs": [],
   "source": [
    "print(\"Hello!\")"
   ]
  },
  {
   "cell_type": "markdown",
   "metadata": {},
   "source": [
    "# Variables and Operators"
   ]
  },
  {
   "cell_type": "code",
   "execution_count": null,
   "metadata": {
    "scrolled": false
   },
   "outputs": [],
   "source": [
    "4 - 2"
   ]
  },
  {
   "cell_type": "code",
   "execution_count": null,
   "metadata": {},
   "outputs": [],
   "source": [
    "x = 3"
   ]
  },
  {
   "cell_type": "code",
   "execution_count": null,
   "metadata": {},
   "outputs": [],
   "source": [
    "print(x)"
   ]
  },
  {
   "cell_type": "code",
   "execution_count": null,
   "metadata": {},
   "outputs": [],
   "source": [
    "x = x + 5"
   ]
  },
  {
   "cell_type": "code",
   "execution_count": null,
   "metadata": {},
   "outputs": [],
   "source": [
    "this_year = 2018\n",
    "your_age = # assign your age to the your_age variable\n",
    "\n",
    "# experiment with different operators * / + - \n",
    "daniel_age - your_age"
   ]
  },
  {
   "cell_type": "markdown",
   "metadata": {},
   "source": [
    "# Strings"
   ]
  },
  {
   "cell_type": "code",
   "execution_count": null,
   "metadata": {},
   "outputs": [],
   "source": [
    "word = \"python\""
   ]
  },
  {
   "cell_type": "code",
   "execution_count": null,
   "metadata": {},
   "outputs": [],
   "source": [
    "print(word)"
   ]
  },
  {
   "cell_type": "code",
   "execution_count": null,
   "metadata": {},
   "outputs": [],
   "source": [
    "len(word)"
   ]
  },
  {
   "cell_type": "code",
   "execution_count": null,
   "metadata": {},
   "outputs": [],
   "source": [
    "word[0]"
   ]
  },
  {
   "cell_type": "code",
   "execution_count": null,
   "metadata": {},
   "outputs": [],
   "source": [
    "word[5]"
   ]
  },
  {
   "cell_type": "code",
   "execution_count": null,
   "metadata": {},
   "outputs": [],
   "source": [
    "word[6]"
   ]
  },
  {
   "cell_type": "code",
   "execution_count": null,
   "metadata": {},
   "outputs": [],
   "source": [
    "word[-1]"
   ]
  },
  {
   "cell_type": "code",
   "execution_count": null,
   "metadata": {},
   "outputs": [],
   "source": [
    "word[:3]"
   ]
  },
  {
   "cell_type": "code",
   "execution_count": null,
   "metadata": {},
   "outputs": [],
   "source": [
    "word[2:4]"
   ]
  },
  {
   "cell_type": "code",
   "execution_count": null,
   "metadata": {},
   "outputs": [],
   "source": [
    "word.index(\"t\")"
   ]
  },
  {
   "cell_type": "code",
   "execution_count": null,
   "metadata": {},
   "outputs": [],
   "source": [
    "word[0:word.index(\"t\")]"
   ]
  },
  {
   "cell_type": "markdown",
   "metadata": {},
   "source": [
    "# Lists"
   ]
  },
  {
   "cell_type": "code",
   "execution_count": null,
   "metadata": {
    "scrolled": false
   },
   "outputs": [],
   "source": [
    "# introduction to lists \n",
    "currencies = [\"dollar\", \"yen\", \"euro\", \"pound\"]\n",
    "print(len(currencies))\n",
    "\n",
    "# list access\n",
    "print(currencies[0])\n",
    "print(currencies[2])\n",
    "print(currencies[0:2])\n",
    "\n",
    "# just like string access! \n",
    "alphabet = \"abcdefghijklmnopqrstuvwxyz\"\n",
    "print(alphabet[0])\n",
    "print(alphabet[10])\n",
    "print(alphabet[0:10])\n",
    "\n",
    "# add to a list \n",
    "currencies.append(\"ruble\")\n",
    "print(currencies)"
   ]
  },
  {
   "cell_type": "code",
   "execution_count": null,
   "metadata": {},
   "outputs": [],
   "source": [
    "# using only the currencies variable, try and print the second letter of 'euro'\n",
    "\n",
    "print(# put your statement in here!)\n"
   ]
  },
  {
   "cell_type": "code",
   "execution_count": null,
   "metadata": {},
   "outputs": [],
   "source": [
    "# maps \n",
    "currencies_to_country = {}\n",
    "currencies_to_country[\"dollar\"] = \"US\"\n",
    "print(currencies_to_country)\n",
    "print(currencies_to_country[\"dollar\"])\n",
    "\n",
    "# use the currencies list variable to add another currency country pair to the map\n",
    "currencies_to_country[currencies # put your statement here]\n",
    "                      \n"
   ]
  },
  {
   "cell_type": "markdown",
   "metadata": {},
   "source": [
    "# Loops and Control Flow"
   ]
  },
  {
   "cell_type": "markdown",
   "metadata": {},
   "source": [
    "### Conditional operations: if/elif/else\n",
    "\n",
    "if `condition`:\n",
    "\n",
    "    do something\n",
    "    \n",
    "elif `other condition`:\n",
    "\n",
    "    do something else\n",
    "\n",
    "else:\n",
    "\n",
    "    do the default thing"
   ]
  },
  {
   "cell_type": "code",
   "execution_count": null,
   "metadata": {},
   "outputs": [],
   "source": [
    "height = \n",
    "maximum_length = 100"
   ]
  },
  {
   "cell_type": "markdown",
   "metadata": {},
   "source": [
    "Adjust the length to get different results!"
   ]
  },
  {
   "cell_type": "code",
   "execution_count": null,
   "metadata": {},
   "outputs": [],
   "source": [
    "bed_length = 120"
   ]
  },
  {
   "cell_type": "code",
   "execution_count": null,
   "metadata": {},
   "outputs": [],
   "source": [
    "if bed_length < too_short:\n",
    "    print(\"My feet are touching the ground!\")\n",
    "elif bed_length > too_long:\n",
    "    print(\"I'm overwhelmed by all of this space!\")\n",
    "else:\n",
    "    print(\"That'll do.\")"
   ]
  },
  {
   "cell_type": "code",
   "execution_count": null,
   "metadata": {},
   "outputs": [],
   "source": [
    "# we can iterate through values in a list or a map\n",
    "for currency in currencies: \n",
    "    print(currency[0])\n",
    "    print(currency + \"_cash\")\n",
    "\n",
    "print() # new line \n",
    "# for a map, we need to specify whether we want to operate on the key or the value \n",
    "for currency in currencies_to_country:\n",
    "    print(\"The \" + currency + \"'s country is \" + currencies_to_country[currency])\n",
    "    \n",
    "print() # new line \n",
    "# in the below map of states to their state birds, try and print only the names of the birds of states starting with \"A\"\n",
    "states_to_birds = {}\n",
    "states_to_birds[\"Alabama\"] = \"Northern Flicker\"\n",
    "states_to_birds[\"Alaska\"] = \"Willow Ptarmigan\"\n",
    "states_to_birds[\"Connecticut\"] = \"American Robin\"\n",
    "states_to_birds[\"Kansas\"] = \"Western Meadowlark\"\n",
    "states_to_birds[\"Michigan\"] = \"Robin Redbreast\"\n",
    "\n",
    "for state in states_to_birds:\n",
    "    # add your code here! "
   ]
  },
  {
   "cell_type": "markdown",
   "metadata": {},
   "source": [
    "### Functions\n",
    "\n",
    "Give function an input, and it will spit out output (Ex. Sin(30 deg) = 1/2)"
   ]
  },
  {
   "cell_type": "code",
   "execution_count": null,
   "metadata": {},
   "outputs": [],
   "source": [
    "def subtract(x, y):\n",
    "    return x - y\n",
    "\n",
    "#Now let's call the function with some input\n",
    "subtract(4, 2)"
   ]
  },
  {
   "cell_type": "code",
   "execution_count": null,
   "metadata": {},
   "outputs": [],
   "source": [
    "#Another example\n",
    "subtract(subtract(6,4), subtract(5,4))"
   ]
  },
  {
   "cell_type": "code",
   "execution_count": null,
   "metadata": {},
   "outputs": [],
   "source": [
    "#Given a list of names, return true if given name is in the list and false is not\n",
    "\n",
    "###Try it yourself first########\n",
    "\n",
    "\n",
    "\n",
    "\n",
    "\n",
    "\n",
    "\n",
    "#####################################\n",
    "def areYouAWinner_1(name, listOfWinners):\n",
    "    for winner in listOfWinners:\n",
    "        if name == winner:\n",
    "            return True\n",
    "    return False\n",
    "\n",
    "def areYouAWinner_2(name, listOfWinners):\n",
    "    for i in range(0, len(listOfWinners)):\n",
    "        if name == listOfWinners[i]:\n",
    "            return True\n",
    "    return False\n",
    "\n",
    "areYouAWinner_2(\"Kyong\", [\"Mark\", \"Kyong\", \"Pranav\", \"Danny\"])"
   ]
  },
  {
   "cell_type": "code",
   "execution_count": null,
   "metadata": {},
   "outputs": [],
   "source": [
    "####Define some more functions in the link below\n",
    "\n",
    "#http://codingbat.com/prob/p197466\n",
    "#http://codingbat.com/prob/p124676\n",
    "#http://codingbat.com/prob/p107010\n",
    "#http://codingbat.com/prob/p194053"
   ]
  },
  {
   "cell_type": "code",
   "execution_count": null,
   "metadata": {},
   "outputs": [],
   "source": [
    "#Final Challenge:\n",
    "\n",
    "#A palindrome is a word which is spelled the same forwards as backwards. For example, the word 'racecar'\n",
    "#is a palindrome: the first and last letters are the same (r), the second and second-last letters are the\n",
    "#same (a), etc. Write a function isPalindrome(str) which takes a string str as input, and returns True if the\n",
    "#string is a palindrome, and False otherwise.\n",
    "\n"
   ]
  }
 ],
 "metadata": {
  "kernelspec": {
   "display_name": "Python 3",
   "language": "python",
   "name": "python3"
  },
  "language_info": {
   "codemirror_mode": {
    "name": "ipython",
    "version": 3
   },
   "file_extension": ".py",
   "mimetype": "text/x-python",
   "name": "python",
   "nbconvert_exporter": "python",
   "pygments_lexer": "ipython3",
   "version": "3.6.4"
  }
 },
 "nbformat": 4,
 "nbformat_minor": 2
}
