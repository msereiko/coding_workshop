{
 "cells": [
  {
   "cell_type": "markdown",
   "metadata": {},
   "source": [
    "# Variables, Operators, Strings\n",
    "- Need string manipulation functions "
   ]
  },
  {
   "cell_type": "code",
   "execution_count": null,
   "metadata": {
    "scrolled": false
   },
   "outputs": [],
   "source": [
    "4 - 2"
   ]
  },
  {
   "cell_type": "code",
   "execution_count": null,
   "metadata": {},
   "outputs": [],
   "source": [
    "daniel_age = 22\n",
    "your_age = # assign your age to the your_age variable\n",
    "\n",
    "# experiment with different operators * / + - \n",
    "daniel_age - your_age"
   ]
  },
  {
   "cell_type": "code",
   "execution_count": null,
   "metadata": {},
   "outputs": [],
   "source": [
    "empty_string = \"\" \n",
    "my_name = # assign string containing your name to my_name variable \n",
    "len(my_name)"
   ]
  },
  {
   "cell_type": "markdown",
   "metadata": {},
   "source": [
    "# Lists"
   ]
  },
  {
   "cell_type": "code",
   "execution_count": null,
   "metadata": {},
   "outputs": [],
   "source": [
    "# introduction to lists \n",
    "\n",
    "currencies = [\"dollar\", \"yen\", \"euro\", \"pound\"]"
   ]
  },
  {
   "cell_type": "code",
   "execution_count": null,
   "metadata": {},
   "outputs": [],
   "source": []
  },
  {
   "cell_type": "markdown",
   "metadata": {},
   "source": [
    "# Loops and Control Flow"
   ]
  },
  {
   "cell_type": "markdown",
   "metadata": {},
   "source": [
    "### Conditional operations: if/elif/else\n",
    "\n",
    "if `condition`:\n",
    "\n",
    "    do something\n",
    "    \n",
    "elif `other condition`:\n",
    "\n",
    "    do something else\n",
    "\n",
    "else:\n",
    "\n",
    "    do the default thing"
   ]
  },
  {
   "cell_type": "code",
   "execution_count": 16,
   "metadata": {},
   "outputs": [],
   "source": [
    "height = \n",
    "maximum_length = 100"
   ]
  },
  {
   "cell_type": "markdown",
   "metadata": {},
   "source": [
    "Adjust the length to get different results!"
   ]
  },
  {
   "cell_type": "code",
   "execution_count": 17,
   "metadata": {},
   "outputs": [],
   "source": [
    "bed_length = 120"
   ]
  },
  {
   "cell_type": "code",
   "execution_count": null,
   "metadata": {},
   "outputs": [],
   "source": [
    "if bed_length < too_short:\n",
    "    print(\"My feet are touching the ground!\")\n",
    "elif bed_length > too_long:\n",
    "    print(\"I'm overwhelmed by all of this space!\")\n",
    "else:\n",
    "    print(\"That'll do.\")"
   ]
  },
  {
   "cell_type": "markdown",
   "metadata": {},
   "source": [
    "### Functions\n",
    "\n",
    "Give function an input, and it will spit out output (Ex. Sin(30 deg) = 1/2)"
   ]
  },
  {
   "cell_type": "code",
   "execution_count": 2,
   "metadata": {},
   "outputs": [
    {
     "data": {
      "text/plain": [
       "2"
      ]
     },
     "execution_count": 2,
     "metadata": {},
     "output_type": "execute_result"
    }
   ],
   "source": [
    "def subtract(x, y):\n",
    "    return x - y\n",
    "\n",
    "#Now let's call the function with some input\n",
    "subtract(4, 2)"
   ]
  },
  {
   "cell_type": "code",
   "execution_count": 3,
   "metadata": {},
   "outputs": [
    {
     "data": {
      "text/plain": [
       "1"
      ]
     },
     "execution_count": 3,
     "metadata": {},
     "output_type": "execute_result"
    }
   ],
   "source": [
    "#Another example\n",
    "subtract(subtract(6,4), subtract(5,4))"
   ]
  },
  {
   "cell_type": "code",
   "execution_count": 4,
   "metadata": {},
   "outputs": [
    {
     "data": {
      "text/plain": [
       "True"
      ]
     },
     "execution_count": 4,
     "metadata": {},
     "output_type": "execute_result"
    }
   ],
   "source": [
    "#Given a list of names, return true if given name is in the list and false is not\n",
    "\n",
    "###Try it yourself first########\n",
    "\n",
    "\n",
    "\n",
    "\n",
    "\n",
    "\n",
    "\n",
    "#####################################\n",
    "def areYouAWinner_1(name, listOfWinners):\n",
    "    for winner in listOfWinners:\n",
    "        if name == winner:\n",
    "            return True\n",
    "    return False\n",
    "\n",
    "def areYouAWinner_2(name, listOfWinners):\n",
    "    for i in range(0, len(listOfWinners)):\n",
    "        if name == listOfWinners[i]:\n",
    "            return True\n",
    "    return False\n",
    "\n",
    "areYouAWinner_2(\"Kyong\", [\"Mark\", \"Kyong\", \"Pranav\", \"Danny\"])"
   ]
  },
  {
   "cell_type": "code",
   "execution_count": null,
   "metadata": {},
   "outputs": [],
   "source": [
    "####Define some more functions in the link below\n",
    "\n",
    "#http://codingbat.com/prob/p197466\n",
    "#http://codingbat.com/prob/p124676\n",
    "#http://codingbat.com/prob/p107010\n",
    "#http://codingbat.com/prob/p194053"
   ]
  },
  {
   "cell_type": "code",
   "execution_count": null,
   "metadata": {},
   "outputs": [],
   "source": [
    "#Final Challenge:\n",
    "\n",
    "#A palindrome is a word which is spelled the same forwards as backwards. For example, the word 'racecar'\n",
    "#is a palindrome: the first and last letters are the same (r), the second and second-last letters are the\n",
    "#same (a), etc. Write a function isPalindrome(str) which takes a string str as input, and returns True if the\n",
    "#string is a palindrome, and False otherwise.\n",
    "\n"
   ]
  }
 ],
 "metadata": {
  "kernelspec": {
   "display_name": "Python [default]",
   "language": "python",
   "name": "python3"
  },
  "language_info": {
   "codemirror_mode": {
    "name": "ipython",
    "version": 3
   },
   "file_extension": ".py",
   "mimetype": "text/x-python",
   "name": "python",
   "nbconvert_exporter": "python",
   "pygments_lexer": "ipython3",
   "version": "3.5.5"
  }
 },
 "nbformat": 4,
 "nbformat_minor": 2
}
