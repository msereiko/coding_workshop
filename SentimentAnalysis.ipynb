{
 "cells": [
  {
   "cell_type": "code",
   "execution_count": 29,
   "metadata": {},
   "outputs": [],
   "source": [
    "with open('positive-words.txt') as file:\n",
    "    positive_text = file.read()"
   ]
  },
  {
   "cell_type": "code",
   "execution_count": 48,
   "metadata": {},
   "outputs": [],
   "source": [
    "pos = set()\n",
    "for word in positive_text.split('\\n'):\n",
    "    pos.add(word.strip())"
   ]
  },
  {
   "cell_type": "code",
   "execution_count": 49,
   "metadata": {},
   "outputs": [],
   "source": [
    "with open('negative-words.txt') as file:\n",
    "    negative_text = file.read()"
   ]
  },
  {
   "cell_type": "code",
   "execution_count": 50,
   "metadata": {},
   "outputs": [],
   "source": [
    "neg = set()\n",
    "for word in negative_text.split('\\n'):\n",
    "    neg.add(word.strip())"
   ]
  },
  {
   "cell_type": "code",
   "execution_count": 47,
   "metadata": {},
   "outputs": [],
   "source": [
    "import string\n",
    "punctuation = set(string.punctuation)"
   ]
  },
  {
   "cell_type": "code",
   "execution_count": 61,
   "metadata": {},
   "outputs": [],
   "source": [
    "with open('facebook1.txt', encoding='utf-8') as file:\n",
    "    fb = file.read()"
   ]
  },
  {
   "cell_type": "code",
   "execution_count": 62,
   "metadata": {},
   "outputs": [
    {
     "data": {
      "text/plain": [
       "'Facebook Gives Researchers ‘Full Access’ for Election Studies\\nFacebook Inc. FB -0.30% will give a newly formed group of academics “full access” to data on its\\xa02.2\\xa0billion users for the purpose of identifying areas of research\\xa0about the effects of social media on elections and democracy, the group said Wednesday.\\nSocial Science One, a group formed\\xa0earlier this year\\xa0with backing from nonprofits including The John S. and James L. Knight Foundation and The Charles Koch Foundation, said it would start accepting proposals from researchers for funding.\\nFacebook is participating in the effort as part of what company officials have said is a renewed commitment to transparency and stamping out abuses on the platform.\\nIn making the alliance, Facebook is continuing to work with outside researchers even as it grapples with the fallout from revelations that data-analytics firm Cambridge Analytica improperly accessed and retained user data. That data were initially gathered by a psychology professor at the University of Cambridge.\\nThe founders of Social Science One said they have put safeguards in place to prevent future abuses or leaks. The group says it will remove personally identifying information from any of the data sets it gives to outside researchers\\xa0and that no data will ever leave Facebook’s servers. It will also closely monitor any studies that involve sensitive user information.\\nBut to determine which data sets to release,\\xa0a half-dozen\\xa0primary researchers will have\\xa0broad access to Facebook’s proprietary user data, said Gary King, a social science professor at Harvard University and one of the co-chairs of the research group.\\n“We would have the same access that employees would have,” Mr. King said in an interview.\\nA Facebook spokesman said the researchers with database access are contractually bound not to disclose any data about the company or its users, and that their activity will be monitored for potential privacy breaches.\\nAfter publication of this article, spokespeople for Facebook and the research group said Mr. King had misspoken. The Facebook spokesman said that the researchers won’t have the same access as employees and that their view “will be limited to public information and de-identified or aggregated datasets.”\\nSocial Science One plans to make grants to other groups of researchers who request access to select sets of user data from Facebook. The group’s first research project involves combing through one million gigabytes of information about the links users have clicked on over the past year to find patterns about fake news.\\nGiving researchers access to data raises questions around user privacy, but it also gives the public a valuable glimpse into Facebook’s practices, said Eric Goldman, a law professor at Santa Clara University.\\n“There’s no way to really hold internet companies accountable without getting access to their data,” Mr. Goldman said.\\nSocial Science One said Facebook wouldn’t have the ability to review or reject any studies that result from the researchers’ work.\\n\\n\\nFacebook is still attempting to locate the app developers who had access to large amounts of user data and find out how they used the information between 2007 and 2015, when the company officially cut data access for all apps.\\n'"
      ]
     },
     "execution_count": 62,
     "metadata": {},
     "output_type": "execute_result"
    }
   ],
   "source": [
    "fb"
   ]
  },
  {
   "cell_type": "code",
   "execution_count": null,
   "metadata": {},
   "outputs": [],
   "source": []
  }
 ],
 "metadata": {
  "kernelspec": {
   "display_name": "Python 3",
   "language": "python",
   "name": "python3"
  },
  "language_info": {
   "codemirror_mode": {
    "name": "ipython",
    "version": 3
   },
   "file_extension": ".py",
   "mimetype": "text/x-python",
   "name": "python",
   "nbconvert_exporter": "python",
   "pygments_lexer": "ipython3",
   "version": "3.6.4"
  }
 },
 "nbformat": 4,
 "nbformat_minor": 2
}
