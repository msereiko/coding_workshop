{
 "cells": [
  {
   "cell_type": "code",
   "execution_count": 63,
   "metadata": {},
   "outputs": [],
   "source": [
    "with open('positive-words.txt') as file:\n",
    "    positive_text = file.read()"
   ]
  },
  {
   "cell_type": "code",
   "execution_count": 64,
   "metadata": {},
   "outputs": [],
   "source": [
    "pos = set()\n",
    "for word in positive_text.split('\\n'):\n",
    "    pos.add(word.strip())"
   ]
  },
  {
   "cell_type": "code",
   "execution_count": 65,
   "metadata": {},
   "outputs": [],
   "source": [
    "with open('negative-words.txt') as file:\n",
    "    negative_text = file.read()"
   ]
  },
  {
   "cell_type": "code",
   "execution_count": 66,
   "metadata": {},
   "outputs": [],
   "source": [
    "neg = set()\n",
    "for word in negative_text.split('\\n'):\n",
    "    neg.add(word.strip())"
   ]
  },
  {
   "cell_type": "code",
   "execution_count": 67,
   "metadata": {},
   "outputs": [],
   "source": [
    "import string\n",
    "punctuation = set(string.punctuation)"
   ]
  },
  {
   "cell_type": "code",
   "execution_count": 68,
   "metadata": {},
   "outputs": [],
   "source": [
    "with open('facebook1.txt', encoding='utf-8') as file:\n",
    "    fb = file.read()"
   ]
  },
  {
   "cell_type": "code",
   "execution_count": 73,
   "metadata": {},
   "outputs": [],
   "source": [
    "fb_words = []\n",
    "for word in fb.split():\n",
    "    fb_words.append(word.strip().lower())"
   ]
  },
  {
   "cell_type": "code",
   "execution_count": 75,
   "metadata": {},
   "outputs": [],
   "source": [
    "import re\n",
    "fb_clean = [re.sub('[^a-z]', '', word) for word in fb_words]"
   ]
  },
  {
   "cell_type": "code",
   "execution_count": 77,
   "metadata": {},
   "outputs": [],
   "source": [
    "fb_pos = 0\n",
    "fb_neg = 0\n",
    "for word in fb_clean:\n",
    "    if word in pos:\n",
    "        fb_pos += 1\n",
    "    elif word in neg:\n",
    "        fb_neg += 1"
   ]
  },
  {
   "cell_type": "code",
   "execution_count": 78,
   "metadata": {},
   "outputs": [
    {
     "data": {
      "text/plain": [
       "6"
      ]
     },
     "execution_count": 78,
     "metadata": {},
     "output_type": "execute_result"
    }
   ],
   "source": [
    "fb_pos"
   ]
  },
  {
   "cell_type": "code",
   "execution_count": 79,
   "metadata": {},
   "outputs": [
    {
     "data": {
      "text/plain": [
       "9"
      ]
     },
     "execution_count": 79,
     "metadata": {},
     "output_type": "execute_result"
    }
   ],
   "source": [
    "fb_neg"
   ]
  },
  {
   "cell_type": "code",
   "execution_count": 90,
   "metadata": {},
   "outputs": [],
   "source": [
    "def get_scores(filename):\n",
    "    scores = {'pos': 0, 'neg': 0, 'positives': [], 'negatives': []}\n",
    "    with open(filename, encoding='utf-8') as file:\n",
    "        text = file.read()\n",
    "    for word in text.split():\n",
    "        lowercase = word.strip().lower()\n",
    "        clean_word = ''.join([letter for letter in lowercase if letter not in punctuation])\n",
    "        if clean_word in pos:\n",
    "            scores['positives'].append(clean_word)\n",
    "            scores['pos'] += 1\n",
    "        elif clean_word in neg:\n",
    "            scores['negatives'].append(clean_word)\n",
    "            scores['neg'] += 1\n",
    "    return scores"
   ]
  },
  {
   "cell_type": "code",
   "execution_count": 91,
   "metadata": {},
   "outputs": [
    {
     "data": {
      "text/plain": [
       "{'pos': 6,\n",
       " 'neg': 9,\n",
       " 'positives': ['renewed',\n",
       "  'commitment',\n",
       "  'work',\n",
       "  'sensitive',\n",
       "  'valuable',\n",
       "  'work'],\n",
       " 'negatives': ['abuses',\n",
       "  'fallout',\n",
       "  'improperly',\n",
       "  'abuses',\n",
       "  'leaks',\n",
       "  'proprietary',\n",
       "  'limited',\n",
       "  'fake',\n",
       "  'reject']}"
      ]
     },
     "execution_count": 91,
     "metadata": {},
     "output_type": "execute_result"
    }
   ],
   "source": [
    "get_scores('facebook1.txt')"
   ]
  },
  {
   "cell_type": "code",
   "execution_count": 92,
   "metadata": {},
   "outputs": [
    {
     "data": {
      "text/plain": [
       "{'pos': 6,\n",
       " 'neg': 9,\n",
       " 'positives': ['easier',\n",
       "  'tougher',\n",
       "  'important',\n",
       "  'renewed',\n",
       "  'commitment',\n",
       "  'well'],\n",
       " 'negatives': ['fake',\n",
       "  'fake',\n",
       "  'issue',\n",
       "  'nefarious',\n",
       "  'divisive',\n",
       "  'issues',\n",
       "  'concerned',\n",
       "  'bad',\n",
       "  'fake']}"
      ]
     },
     "execution_count": 92,
     "metadata": {},
     "output_type": "execute_result"
    }
   ],
   "source": [
    "get_scores('facebook2.txt')"
   ]
  },
  {
   "cell_type": "code",
   "execution_count": 94,
   "metadata": {},
   "outputs": [
    {
     "data": {
      "text/plain": [
       "{'pos': 23,\n",
       " 'neg': 18,\n",
       " 'positives': ['fine',\n",
       "  'fine',\n",
       "  'leverage',\n",
       "  'appeal',\n",
       "  'free',\n",
       "  'supports',\n",
       "  'popular',\n",
       "  'right',\n",
       "  'leverage',\n",
       "  'free',\n",
       "  'bolster',\n",
       "  'worked',\n",
       "  'intelligence',\n",
       "  'free',\n",
       "  'popular',\n",
       "  'freedom',\n",
       "  'leverage',\n",
       "  'benefit',\n",
       "  'helping',\n",
       "  'better',\n",
       "  'innovative',\n",
       "  'fine',\n",
       "  'recovery'],\n",
       " 'negatives': ['rebuke',\n",
       "  'abused',\n",
       "  'issues',\n",
       "  'penalty',\n",
       "  'onerous',\n",
       "  'discourage',\n",
       "  'rejected',\n",
       "  'allegation',\n",
       "  'stymied',\n",
       "  'false',\n",
       "  'rival',\n",
       "  'rejects',\n",
       "  'strike',\n",
       "  'break',\n",
       "  'contend',\n",
       "  'issues',\n",
       "  'hate',\n",
       "  'liability']}"
      ]
     },
     "execution_count": 94,
     "metadata": {},
     "output_type": "execute_result"
    }
   ],
   "source": [
    "get_scores('google1.txt')"
   ]
  },
  {
   "cell_type": "code",
   "execution_count": null,
   "metadata": {},
   "outputs": [],
   "source": []
  }
 ],
 "metadata": {
  "kernelspec": {
   "display_name": "Python 3",
   "language": "python",
   "name": "python3"
  },
  "language_info": {
   "codemirror_mode": {
    "name": "ipython",
    "version": 3
   },
   "file_extension": ".py",
   "mimetype": "text/x-python",
   "name": "python",
   "nbconvert_exporter": "python",
   "pygments_lexer": "ipython3",
   "version": "3.6.4"
  }
 },
 "nbformat": 4,
 "nbformat_minor": 2
}
