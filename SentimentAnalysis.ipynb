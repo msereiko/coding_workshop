{
 "cells": [
  {
   "cell_type": "markdown",
   "metadata": {},
   "source": [
    "# Sentiment Analysis"
   ]
  },
  {
   "cell_type": "markdown",
   "metadata": {},
   "source": [
    "### First we need to read in our files of positive and negative words into lists"
   ]
  },
  {
   "cell_type": "code",
   "execution_count": null,
   "metadata": {},
   "outputs": [],
   "source": [
    "with open('facebook1.txt') as file:\n",
    "    article = file.read()"
   ]
  },
  {
   "cell_type": "code",
   "execution_count": null,
   "metadata": {
    "scrolled": true
   },
   "outputs": [],
   "source": [
    "article"
   ]
  },
  {
   "cell_type": "code",
   "execution_count": null,
   "metadata": {},
   "outputs": [],
   "source": [
    "def file_to_list(filename):\n",
    "    words = []\n",
    "    with open(filename) as file:\n",
    "        text = file.read()\n",
    "        for word in text.split('\\n'):\n",
    "            words.append(word.strip())\n",
    "    return words"
   ]
  },
  {
   "cell_type": "code",
   "execution_count": null,
   "metadata": {},
   "outputs": [],
   "source": [
    "positive_words = file_to_list('positive-words.txt')"
   ]
  },
  {
   "cell_type": "code",
   "execution_count": null,
   "metadata": {},
   "outputs": [],
   "source": [
    "negative_words = file_to_list('negative-words.txt')"
   ]
  },
  {
   "cell_type": "code",
   "execution_count": null,
   "metadata": {},
   "outputs": [],
   "source": [
    "import string\n",
    "punctuation = set(string.punctuation)"
   ]
  },
  {
   "cell_type": "code",
   "execution_count": null,
   "metadata": {},
   "outputs": [],
   "source": [
    "article_words = []\n",
    "for word in article.split():\n",
    "    article_words.append(word.strip().lower())"
   ]
  },
  {
   "cell_type": "code",
   "execution_count": null,
   "metadata": {},
   "outputs": [],
   "source": [
    "import re\n",
    "cleaned_words = [re.sub('[^a-z]', '', word) for word in article_words]"
   ]
  },
  {
   "cell_type": "code",
   "execution_count": null,
   "metadata": {},
   "outputs": [],
   "source": [
    "article_pos = 0\n",
    "article_neg = 0\n",
    "for word in cleaned_words:\n",
    "    if word in positive_words:\n",
    "        article_pos += 1\n",
    "    elif word in negative_words:\n",
    "        article_neg += 1"
   ]
  },
  {
   "cell_type": "code",
   "execution_count": null,
   "metadata": {},
   "outputs": [],
   "source": [
    "def get_scores(filename):\n",
    "    scores = {}\n",
    "    scores['pos'] = 0\n",
    "    scores['neg'] = 0\n",
    "    scores['positives'] = []\n",
    "    scores['negatives'] = []\n",
    "    with open(filename) as file:\n",
    "        text = file.read()\n",
    "    for word in text.split():\n",
    "        lowercase = word.strip().lower()\n",
    "        clean_word = ''.join([letter for letter in lowercase if letter not in punctuation])\n",
    "        if clean_word in positive_words:\n",
    "            scores['positives'].append(clean_word)\n",
    "            scores['pos'] += 1\n",
    "        elif clean_word in negative_words:\n",
    "            scores['negatives'].append(clean_word)\n",
    "            scores['neg'] += 1\n",
    "    return scores"
   ]
  },
  {
   "cell_type": "code",
   "execution_count": null,
   "metadata": {},
   "outputs": [],
   "source": [
    "get_scores('facebook1.txt')"
   ]
  },
  {
   "cell_type": "code",
   "execution_count": null,
   "metadata": {},
   "outputs": [],
   "source": [
    "get_scores('facebook2.txt')"
   ]
  },
  {
   "cell_type": "code",
   "execution_count": null,
   "metadata": {},
   "outputs": [],
   "source": [
    "get_scores('google1.txt')"
   ]
  },
  {
   "cell_type": "code",
   "execution_count": null,
   "metadata": {},
   "outputs": [],
   "source": []
  }
 ],
 "metadata": {
  "kernelspec": {
   "display_name": "Python 3",
   "language": "python",
   "name": "python3"
  },
  "language_info": {
   "codemirror_mode": {
    "name": "ipython",
    "version": 3
   },
   "file_extension": ".py",
   "mimetype": "text/x-python",
   "name": "python",
   "nbconvert_exporter": "python",
   "pygments_lexer": "ipython3",
   "version": "3.6.4"
  }
 },
 "nbformat": 4,
 "nbformat_minor": 2
}
