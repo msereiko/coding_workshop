{
 "cells": [
  {
   "cell_type": "code",
   "execution_count": 1,
   "metadata": {},
   "outputs": [
    {
     "data": {
      "text/plain": [
       "-2"
      ]
     },
     "execution_count": 1,
     "metadata": {},
     "output_type": "execute_result"
    }
   ],
   "source": [
    "4 - 2 "
   ]
  },
  {
   "cell_type": "code",
   "execution_count": null,
   "metadata": {},
   "outputs": [],
   "source": [
    "daniel_age = 22\n",
    "your_age = # assign your age to the your_age variable\n",
    "\n",
    "# experiment with different operators * / + - \n",
    "daniel_age - your_age "
   ]
  },
  {
   "cell_type": "code",
   "execution_count": null,
   "metadata": {},
   "outputs": [],
   "source": [
    "empty_string = \"\" \n",
    "my_name = # assign string containing your name to my_name variable \n",
    "len(my_name)"
   ]
  },
  {
   "cell_type": "code",
   "execution_count": 2,
   "metadata": {},
   "outputs": [
    {
     "data": {
      "text/plain": [
       "4"
      ]
     },
     "execution_count": 2,
     "metadata": {},
     "output_type": "execute_result"
    }
   ],
   "source": [
    "# introduction to lists \n",
    "\n",
    "currencies = [\"dollar\", \"yen\", \"euro\", \"pound\"]"
   ]
  },
  {
   "cell_type": "code",
   "execution_count": 3,
   "metadata": {},
   "outputs": [],
   "source": [
    "def word_feats(words):\n",
    "    return dict([(word, True) for word in words])\n",
    " \n",
    "positive_vocab = [ 'awesome', 'outstanding', 'fantastic', 'terrific', 'good', 'nice', 'great', ':)' ]\n",
    "negative_vocab = [ 'bad', 'terrible','useless', 'hate', ':(' ]\n",
    "neutral_vocab = [ 'movie','the','sound','was','is','actors','did','know','words','not' ]\n",
    " \n",
    "positive_features = [(word_feats(pos), 'pos') for pos in positive_vocab]\n",
    "negative_features = [(word_feats(neg), 'neg') for neg in negative_vocab]\n",
    "neutral_features = [(word_feats(neu), 'neu') for neu in neutral_vocab]\n",
    " \n",
    "train_set = negative_features + positive_features + neutral_features"
   ]
  },
  {
   "cell_type": "code",
   "execution_count": 4,
   "metadata": {},
   "outputs": [
    {
     "data": {
      "text/plain": [
       "[({'b': True, 'a': True, 'd': True}, 'neg'),\n",
       " ({'t': True, 'e': True, 'r': True, 'i': True, 'b': True, 'l': True}, 'neg'),\n",
       " ({'u': True, 's': True, 'e': True, 'l': True}, 'neg'),\n",
       " ({'h': True, 'a': True, 't': True, 'e': True}, 'neg'),\n",
       " ({':': True, '(': True}, 'neg'),\n",
       " ({'a': True, 'w': True, 'e': True, 's': True, 'o': True, 'm': True}, 'pos'),\n",
       " ({'o': True,\n",
       "   'u': True,\n",
       "   't': True,\n",
       "   's': True,\n",
       "   'a': True,\n",
       "   'n': True,\n",
       "   'd': True,\n",
       "   'i': True,\n",
       "   'g': True},\n",
       "  'pos'),\n",
       " ({'f': True,\n",
       "   'a': True,\n",
       "   'n': True,\n",
       "   't': True,\n",
       "   's': True,\n",
       "   'i': True,\n",
       "   'c': True},\n",
       "  'pos'),\n",
       " ({'t': True, 'e': True, 'r': True, 'i': True, 'f': True, 'c': True}, 'pos'),\n",
       " ({'g': True, 'o': True, 'd': True}, 'pos'),\n",
       " ({'n': True, 'i': True, 'c': True, 'e': True}, 'pos'),\n",
       " ({'g': True, 'r': True, 'e': True, 'a': True, 't': True}, 'pos'),\n",
       " ({':': True, ')': True}, 'pos'),\n",
       " ({'m': True, 'o': True, 'v': True, 'i': True, 'e': True}, 'neu'),\n",
       " ({'t': True, 'h': True, 'e': True}, 'neu'),\n",
       " ({'s': True, 'o': True, 'u': True, 'n': True, 'd': True}, 'neu'),\n",
       " ({'w': True, 'a': True, 's': True}, 'neu'),\n",
       " ({'i': True, 's': True}, 'neu'),\n",
       " ({'a': True, 'c': True, 't': True, 'o': True, 'r': True, 's': True}, 'neu'),\n",
       " ({'d': True, 'i': True}, 'neu'),\n",
       " ({'k': True, 'n': True, 'o': True, 'w': True}, 'neu'),\n",
       " ({'w': True, 'o': True, 'r': True, 'd': True, 's': True}, 'neu'),\n",
       " ({'n': True, 'o': True, 't': True}, 'neu')]"
      ]
     },
     "execution_count": 4,
     "metadata": {},
     "output_type": "execute_result"
    }
   ],
   "source": [
    "train_set"
   ]
  },
  {
   "cell_type": "code",
   "execution_count": null,
   "metadata": {},
   "outputs": [],
   "source": []
  }
 ],
 "metadata": {
  "kernelspec": {
   "display_name": "Python 3",
   "language": "python",
   "name": "python3"
  },
  "language_info": {
   "codemirror_mode": {
    "name": "ipython",
    "version": 3
   },
   "file_extension": ".py",
   "mimetype": "text/x-python",
   "name": "python",
   "nbconvert_exporter": "python",
   "pygments_lexer": "ipython3",
   "version": "3.6.4"
  }
 },
 "nbformat": 4,
 "nbformat_minor": 2
}
